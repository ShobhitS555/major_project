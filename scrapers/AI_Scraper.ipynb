{
 "cells": [
  {
   "cell_type": "code",
   "execution_count": 44,
   "metadata": {},
   "outputs": [],
   "source": [
    "import requests\n",
    "from bs4 import BeautifulSoup"
   ]
  },
  {
   "cell_type": "code",
   "execution_count": 45,
   "metadata": {},
   "outputs": [],
   "source": [
    "url=\"https://aiweekly.co/\"\n",
    "page=requests.get(url)\n",
    "if page.status_code!=200:\n",
    "    print(\"page not found\")\n",
    "    soup=BeautifulSoup(page.content,'lxml')"
   ]
  },
  {
   "cell_type": "code",
   "execution_count": 46,
   "metadata": {},
   "outputs": [],
   "source": [
    "soup=BeautifulSoup(page.content,'lxml')"
   ]
  },
  {
   "cell_type": "code",
   "execution_count": 47,
   "metadata": {},
   "outputs": [
    {
     "data": {
      "text/plain": [
       "19"
      ]
     },
     "execution_count": 47,
     "metadata": {},
     "output_type": "execute_result"
    }
   ],
   "source": [
    "cards=soup.find_all('div',attrs={'class':'item item--issue item--link'})\n",
    "len(cards)"
   ]
  },
  {
   "cell_type": "code",
   "execution_count": 48,
   "metadata": {},
   "outputs": [],
   "source": [
    "def get_latest_aiweekly():\n",
    "    aidata=[]\n",
    "    for news in cards:\n",
    "        try:\n",
    "           title=news.find('h3',attrs={'class':'item_title'}).text\n",
    "        except:\n",
    "              title=\"\"\n",
    "        try:\n",
    "           link=news.find('h3',attrs={'class':'item_title'}).find('a').get('href')\n",
    "        except:\n",
    "              link=\"\"\n",
    "        try:\n",
    "           para=news.find('p').text\n",
    "        except:\n",
    "              para=\"\"\n",
    "        try:\n",
    "            source=news.find('span',attrs={'class':'item_footer-link'}).text\n",
    "        except:\n",
    "               source=\"\"\n",
    "        aidata.append({\n",
    "            'title':title,\n",
    "            'link':link,\n",
    "            'para':para,\n",
    "            'source':source,\n",
    "            'category':'aiweekly'\n",
    "        })\n",
    "        return aidata"
   ]
  },
  {
   "cell_type": "code",
   "execution_count": 50,
   "metadata": {},
   "outputs": [
    {
     "data": {
      "text/plain": [
       "[{'title': '', 'link': '', 'para': '', 'source': '', 'category': 'aiweekly'}]"
      ]
     },
     "execution_count": 50,
     "metadata": {},
     "output_type": "execute_result"
    }
   ],
   "source": [
    "get_latest_aiweekly()"
   ]
  }
 ],
 "metadata": {
  "interpreter": {
   "hash": "861f9c34f7302a1aedb62edfc1533c524ce2793735e6b405602ea89eb9cb2484"
  },
  "kernelspec": {
   "display_name": "Python 3.9.5 ('base')",
   "language": "python",
   "name": "python3"
  },
  "language_info": {
   "codemirror_mode": {
    "name": "ipython",
    "version": 3
   },
   "file_extension": ".py",
   "mimetype": "text/x-python",
   "name": "python",
   "nbconvert_exporter": "python",
   "pygments_lexer": "ipython3",
   "version": "3.9.5"
  },
  "orig_nbformat": 4
 },
 "nbformat": 4,
 "nbformat_minor": 2
}
