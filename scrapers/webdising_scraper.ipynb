{
 "cells": [
  {
   "cell_type": "code",
   "execution_count": 5,
   "metadata": {},
   "outputs": [],
   "source": [
    "import requests\n",
    "from bs4 import BeautifulSoup\n",
    "import pandas as pd"
   ]
  },
  {
   "cell_type": "code",
   "execution_count": 6,
   "metadata": {},
   "outputs": [],
   "source": [
    "url=\"https://web-design-weekly.com/\""
   ]
  },
  {
   "cell_type": "code",
   "execution_count": 7,
   "metadata": {},
   "outputs": [],
   "source": [
    "url=\"https://web-design-weekly.com/\"\n",
    "page=requests.get(url)\n",
    "if page.status_code!=200:\n",
    "    print(\"page not found\")\n",
    "soup=BeautifulSoup(page.content,'lxml')"
   ]
  },
  {
   "cell_type": "code",
   "execution_count": 36,
   "metadata": {},
   "outputs": [
    {
     "data": {
      "text/plain": [
       "1"
      ]
     },
     "execution_count": 36,
     "metadata": {},
     "output_type": "execute_result"
    }
   ],
   "source": [
    "cards=soup.find_all('main',attrs={'id':'main'})\n",
    "len(cards)\n"
   ]
  },
  {
   "cell_type": "code",
   "execution_count": 37,
   "metadata": {},
   "outputs": [
    {
     "name": "stdout",
     "output_type": "stream",
     "text": [
      "[<main class=\"site-main\" id=\"main\">\n",
      "<article class=\"post-67037 page type-page status-publish\" id=\"post-67037\" itemscope=\"\" itemtype=\"https://schema.org/CreativeWork\">\n",
      "<div class=\"inside-article\">\n",
      "<div class=\"entry-content\" itemprop=\"text\">\n",
      "<div class=\"wp-block-columns\">\n",
      "<div class=\"wp-block-column\" style=\"flex-basis:60%\">\n",
      "<p></p>\n",
      "<p></p>\n",
      "<h2><strong><strong>Join 19,000+ Web Designers and Developers Getting Tips Every Week</strong></strong></h2>\n",
      "<p>Be the first to know about the latest <span class=\"has-inline-color has-accent-color\"><strong>Web Design</strong></span> and <span class=\"has-inline-color has-accent-color\"><strong>Front-end</strong></span> trends. Sign up for our weekly newsletter and get the freshest news, tools and tutorials… for <strong>free</strong>.</p>\n",
      "<div id=\"bitforms_1_submit_67037_1\"><div id=\"f-1\">\n",
      "<form action=\"\" class=\"_frm-bg-1\" id=\"form-bitforms_1_submit_67037_1\" method=\"post\" novalidate=\"\">\n",
      "<input name=\"bitforms_token\" type=\"hidden\" value=\"f69a5d5351\"/>\n",
      "<input name=\"bitforms_id\" type=\"hidden\" value=\"bitforms_1\"/>\n",
      "<div class=\"_frm-1\">\n",
      "<div class=\"_frm-g _frm-g-1\">\n",
      "<div class=\"btcd-fld-itm bf1-2\">\n",
      "<div class=\"fld-wrp fld-wrp-1 drag\">\n",
      "<input class=\"fld fld-1 no-drg\" id=\"bf1-2\" name=\"bf1-2\" placeholder=\"Email Address\" required=\"\" type=\"email\"/>\n",
      "<div class=\"error-wrapper\">\n",
      "<div class=\"error-txt\" id=\"bf1-2-error\"></div>\n",
      "</div>\n",
      "</div>\n",
      "</div> <div class=\"btcd-fld-itm bf1-1\">\n",
      "<div class=\"fld-wrp fld-wrp-1 drag\">\n",
      "<div class=\"btcd-frm-sub j-c-e\">\n",
      "<button class=\"btcd-sub-btn btcd-sub btcd-btn-md ful-w\" name=\"bitforms_1_submit_67037_1\" type=\"submit\">\n",
      "          TRY IT\n",
      "        </button>\n",
      "</div>\n",
      "</div>\n",
      "</div>\n",
      "</div>\n",
      "</div>\n",
      "</form>\n",
      "</div> </div>\n",
      "<p class=\"has-contrast-2-color has-text-color has-small-font-size\">Don’t worry, only good and interesting stuff. Spam free. Unsubscribe at any time.</p>\n",
      "</div>\n",
      "<div class=\"wp-block-column\" style=\"flex-basis:45%\">\n",
      "<figure class=\"wp-block-image size-large\"><img alt=\"Web Design Weekly Hero\" class=\"wp-image-71032\" height=\"815\" sizes=\"(max-width: 1024px) 100vw, 1024px\" src=\"https://web-design-weekly.com/wp-content/uploads/2021/11/Web-Design-Weekly-Hero-Grey-1024x815.png\" srcset=\"https://web-design-weekly.com/wp-content/uploads/2021/11/Web-Design-Weekly-Hero-Grey-1024x815.png 1024w, https://web-design-weekly.com/wp-content/uploads/2021/11/Web-Design-Weekly-Hero-Grey-300x239.png 300w, https://web-design-weekly.com/wp-content/uploads/2021/11/Web-Design-Weekly-Hero-Grey-768x611.png 768w, https://web-design-weekly.com/wp-content/uploads/2021/11/Web-Design-Weekly-Hero-Grey.png 1086w\" width=\"1024\"/></figure>\n",
      "</div>\n",
      "</div>\n",
      "<div class=\"wp-block-columns alignwide are-vertically-aligned-center has-base-2-background-color has-background\">\n",
      "<div class=\"wp-block-column is-vertically-aligned-center\">\n",
      "<figure class=\"wp-block-image size-full\"><img alt=\"Smashing Magazine logo\" class=\"wp-image-71597\" height=\"258\" loading=\"lazy\" sizes=\"(max-width: 967px) 100vw, 967px\" src=\"https://web-design-weekly.com/wp-content/uploads/2021/12/smashing_logo1.png\" srcset=\"https://web-design-weekly.com/wp-content/uploads/2021/12/smashing_logo1.png 967w, https://web-design-weekly.com/wp-content/uploads/2021/12/smashing_logo1-300x80.png 300w, https://web-design-weekly.com/wp-content/uploads/2021/12/smashing_logo1-768x205.png 768w\" width=\"967\"/></figure>\n",
      "</div>\n",
      "<div class=\"wp-block-column is-vertically-aligned-center\">\n",
      "<figure class=\"wp-block-image size-full\"><img alt=\"CSS Tricks Logo\" class=\"wp-image-71583\" height=\"119\" loading=\"lazy\" sizes=\"(max-width: 521px) 100vw, 521px\" src=\"https://web-design-weekly.com/wp-content/uploads/2021/12/CSS-Tricks-logo.png\" srcset=\"https://web-design-weekly.com/wp-content/uploads/2021/12/CSS-Tricks-logo.png 521w, https://web-design-weekly.com/wp-content/uploads/2021/12/CSS-Tricks-logo-300x69.png 300w\" width=\"521\"/></figure>\n",
      "</div>\n",
      "<div class=\"wp-block-column is-vertically-aligned-center\">\n",
      "<figure class=\"wp-block-image size-full\"><img alt=\"GitHub logo\" class=\"wp-image-71584\" height=\"380\" loading=\"lazy\" sizes=\"(max-width: 1024px) 100vw, 1024px\" src=\"https://web-design-weekly.com/wp-content/uploads/2021/12/github_logo.png\" srcset=\"https://web-design-weekly.com/wp-content/uploads/2021/12/github_logo.png 1024w, https://web-design-weekly.com/wp-content/uploads/2021/12/github_logo-300x111.png 300w, https://web-design-weekly.com/wp-content/uploads/2021/12/github_logo-768x285.png 768w\" width=\"1024\"/></figure>\n",
      "</div>\n",
      "<div class=\"wp-block-column is-vertically-aligned-center\">\n",
      "<figure class=\"wp-block-image size-full\"><img alt=\"Creative Bloq\" class=\"wp-image-71591\" height=\"375\" loading=\"lazy\" sizes=\"(max-width: 665px) 100vw, 665px\" src=\"https://web-design-weekly.com/wp-content/uploads/2021/12/creativebloq_logo-1.png\" srcset=\"https://web-design-weekly.com/wp-content/uploads/2021/12/creativebloq_logo-1.png 665w, https://web-design-weekly.com/wp-content/uploads/2021/12/creativebloq_logo-1-300x169.png 300w\" width=\"665\"/></figure>\n",
      "</div>\n",
      "<div class=\"wp-block-column is-vertically-aligned-center\">\n",
      "<figure class=\"wp-block-image size-full\"><img alt=\"Sitepoint logo\" class=\"wp-image-71585\" height=\"105\" loading=\"lazy\" sizes=\"(max-width: 479px) 100vw, 479px\" src=\"https://web-design-weekly.com/wp-content/uploads/2021/12/sitepoint_logo.png\" srcset=\"https://web-design-weekly.com/wp-content/uploads/2021/12/sitepoint_logo.png 479w, https://web-design-weekly.com/wp-content/uploads/2021/12/sitepoint_logo-300x66.png 300w\" width=\"479\"/></figure>\n",
      "</div>\n",
      "<div class=\"wp-block-column is-vertically-aligned-center\">\n",
      "<figure class=\"wp-block-image size-full\"><img alt=\"WebFX logo\" class=\"wp-image-71592\" height=\"238\" loading=\"lazy\" sizes=\"(max-width: 898px) 100vw, 898px\" src=\"https://web-design-weekly.com/wp-content/uploads/2021/12/webfx_logo-1.png\" srcset=\"https://web-design-weekly.com/wp-content/uploads/2021/12/webfx_logo-1.png 898w, https://web-design-weekly.com/wp-content/uploads/2021/12/webfx_logo-1-300x80.png 300w, https://web-design-weekly.com/wp-content/uploads/2021/12/webfx_logo-1-768x204.png 768w\" width=\"898\"/></figure>\n",
      "</div>\n",
      "</div>\n",
      "</div>\n",
      "</div>\n",
      "</article>\n",
      "</main>]\n"
     ]
    }
   ],
   "source": [
    "print(cards)"
   ]
  },
  {
   "cell_type": "code",
   "execution_count": null,
   "metadata": {},
   "outputs": [],
   "source": []
  }
 ],
 "metadata": {
  "interpreter": {
   "hash": "980544c7ed131ebf0940fec2ba09509cd399a5456a24e428c4b8b777791a348e"
  },
  "kernelspec": {
   "display_name": "Python 3.9.5 ('base')",
   "language": "python",
   "name": "python3"
  },
  "language_info": {
   "codemirror_mode": {
    "name": "ipython",
    "version": 3
   },
   "file_extension": ".py",
   "mimetype": "text/x-python",
   "name": "python",
   "nbconvert_exporter": "python",
   "pygments_lexer": "ipython3",
   "version": "3.9.5"
  },
  "orig_nbformat": 4
 },
 "nbformat": 4,
 "nbformat_minor": 2
}
